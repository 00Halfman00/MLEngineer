{
 "cells": [
  {
   "cell_type": "markdown",
   "metadata": {
    "colab_type": "text",
    "id": "0MRC0e0KhQ0S"
   },
   "source": [
    "# Random Forest Classification"
   ]
  },
  {
   "cell_type": "markdown",
   "metadata": {
    "colab_type": "text",
    "id": "LWd1UlMnhT2s"
   },
   "source": [
    "## Importing the libraries"
   ]
  },
  {
   "cell_type": "code",
   "execution_count": 57,
   "metadata": {
    "colab": {},
    "colab_type": "code",
    "id": "YvGPUQaHhXfL"
   },
   "outputs": [],
   "source": [
    "import pandas as pd\n",
    "import numpy as np\n",
    "import matplotlib.pyplot as plt"
   ]
  },
  {
   "cell_type": "markdown",
   "metadata": {
    "colab_type": "text",
    "id": "K1VMqkGvhc3-"
   },
   "source": [
    "## Importing the dataset"
   ]
  },
  {
   "cell_type": "code",
   "execution_count": 58,
   "metadata": {
    "colab": {},
    "colab_type": "code",
    "id": "M52QDmyzhh9s"
   },
   "outputs": [
    {
     "name": "stdout",
     "output_type": "stream",
     "text": [
      "Dataset loaded successfully.\n"
     ]
    }
   ],
   "source": [
    "def load_csv_dataset(file_path):\n",
    "    \"\"\"\n",
    "    Parameters:\n",
    "    file_path (str): The path to the CSV file.\n",
    "    Purpose:\n",
    "    Load dataset, and assign features matrix and target vector.\n",
    "    Returns:\n",
    "    Tuple[np.ndarray, np.ndarray]: Features matrix and target vector.\n",
    "    \"\"\"\n",
    "    try:\n",
    "        dataset = pd.read_csv(file_path)\n",
    "        print(\"Dataset loaded successfully.\")\n",
    "        X = dataset.iloc[:, :-1].values\n",
    "        y = dataset.iloc[:, -1].values\n",
    "        return X, y\n",
    "    except Exception as e:\n",
    "        print(f\"Error loading dataset: {e}\")\n",
    "        return None\n",
    "\n",
    "X, y = load_csv_dataset('Social_Network_Ads.csv')"
   ]
  },
  {
   "cell_type": "markdown",
   "metadata": {},
   "source": [
    "### Print shapes of independent feature/s matrix and dependent target vector"
   ]
  },
  {
   "cell_type": "code",
   "execution_count": 59,
   "metadata": {},
   "outputs": [
    {
     "name": "stdout",
     "output_type": "stream",
     "text": [
      "Features matrix shape: (400, 2)\n",
      "Target vector shape: (400,)\n"
     ]
    }
   ],
   "source": [
    "def print_shapes(X, y):\n",
    "    \"\"\"\n",
    "    Parameters:\n",
    "    X (np.ndarray): Features matrix.\n",
    "    y (np.ndarray): Target vector.\n",
    "    Purpose:\n",
    "    Print the shapes of the features matrix and target vector.\n",
    "    Returns:\n",
    "    None\n",
    "    \"\"\"\n",
    "    print(f\"Features matrix shape: {X.shape}\")\n",
    "    print(f\"Target vector shape: {y.shape}\")\n",
    "\n",
    "print_shapes(X, y)\n"
   ]
  },
  {
   "cell_type": "markdown",
   "metadata": {
    "colab_type": "text",
    "id": "YvxIPVyMhmKp"
   },
   "source": [
    "## Splitting the dataset into the Training set and Test set"
   ]
  },
  {
   "cell_type": "code",
   "execution_count": 60,
   "metadata": {
    "colab": {},
    "colab_type": "code",
    "id": "AVzJWAXIhxoC"
   },
   "outputs": [],
   "source": [
    "from sklearn.model_selection import train_test_split\n",
    "def split_dataset(X, y, test_size=1/4, random_state=0):\n",
    "    \"\"\"\n",
    "    Parameters:\n",
    "    X (np.ndarray): Features matrix.\n",
    "    y (np.ndarray): Target vector.\n",
    "    test_size (float): Proportion of the dataset to include in the test split.\n",
    "    random_state (int): Random seed for reproducibility.\n",
    "    Purpose:\n",
    "    Split the dataset into training and testing sets.\n",
    "    Returns:\n",
    "    Tuple[np.ndarray, np.ndarray, np.ndarray, np.ndarray]: Training and testing sets for features and target.\n",
    "    \"\"\"\n",
    "    X_train, X_test, y_train, y_test = train_test_split(X, y, test_size=test_size, random_state=random_state)\n",
    "    return X_train, X_test, y_train, y_test\n",
    "\n",
    "X_train, X_test, y_train, y_test = split_dataset(X, y)"
   ]
  },
  {
   "cell_type": "markdown",
   "metadata": {},
   "source": [
    "### Print split shapes of independent feature/s matrix and dependent target vector"
   ]
  },
  {
   "cell_type": "code",
   "execution_count": 61,
   "metadata": {
    "colab": {
     "base_uri": "https://localhost:8080/",
     "height": 1000
    },
    "colab_type": "code",
    "executionInfo": {
     "elapsed": 1300,
     "status": "ok",
     "timestamp": 1588269343329,
     "user": {
      "displayName": "Hadelin de Ponteves",
      "photoUrl": "https://lh3.googleusercontent.com/a-/AOh14GhEuXdT7eQweUmRPW8_laJuPggSK6hfvpl5a6WBaA=s64",
      "userId": "15047218817161520419"
     },
     "user_tz": -240
    },
    "id": "P3nS3-6r1i2B",
    "outputId": "e4a38929-7ac1-4895-a070-4f241ad247c0"
   },
   "outputs": [
    {
     "name": "stdout",
     "output_type": "stream",
     "text": [
      "Training features shape: (300, 2)\n",
      "Testing features shape: (100, 2)\n",
      "Training target shape: (300,)\n",
      "Testing target shape: (100,)\n"
     ]
    }
   ],
   "source": [
    "def print_split_shapes(X_train, X_test, y_train, y_test):\n",
    "    \"\"\"\n",
    "    Parameters:\n",
    "    X_train (np.ndarray): Training features matrix.\n",
    "    X_test (np.ndarray): Testing features matrix.\n",
    "    y_train (np.ndarray): Training target vector.\n",
    "    y_test (np.ndarray): Testing target vector.\n",
    "    Purpose:\n",
    "    Print the shapes of the training and testing sets.\n",
    "    Returns:\n",
    "    None\n",
    "    \"\"\"\n",
    "    print(f\"Training features shape: {X_train.shape}\")\n",
    "    print(f\"Testing features shape: {X_test.shape}\")\n",
    "    print(f\"Training target shape: {y_train.shape}\")\n",
    "    print(f\"Testing target shape: {y_test.shape}\")\n",
    "\n",
    "print_split_shapes(X_train, X_test, y_train, y_test)\n"
   ]
  },
  {
   "cell_type": "markdown",
   "metadata": {},
   "source": [
    "### Print split samples of independent features matrix and dependent target vector"
   ]
  },
  {
   "cell_type": "code",
   "execution_count": 62,
   "metadata": {
    "colab": {
     "base_uri": "https://localhost:8080/",
     "height": 171
    },
    "colab_type": "code",
    "executionInfo": {
     "elapsed": 1294,
     "status": "ok",
     "timestamp": 1588269343330,
     "user": {
      "displayName": "Hadelin de Ponteves",
      "photoUrl": "https://lh3.googleusercontent.com/a-/AOh14GhEuXdT7eQweUmRPW8_laJuPggSK6hfvpl5a6WBaA=s64",
      "userId": "15047218817161520419"
     },
     "user_tz": -240
    },
    "id": "8dpDLojm1mVG",
    "outputId": "2a9b0425-9e6d-480f-b32a-ebae6f413dbe"
   },
   "outputs": [
    {
     "name": "stdout",
     "output_type": "stream",
     "text": [
      "Training features sample:\n",
      "[[    44  39000]\n",
      " [    32 120000]\n",
      " [    38  50000]\n",
      " [    32 135000]\n",
      " [    52  21000]\n",
      " [    53 104000]\n",
      " [    39  42000]\n",
      " [    38  61000]\n",
      " [    36  50000]\n",
      " [    36  63000]]\n",
      "Testing features sample:\n",
      "[[    30  87000]\n",
      " [    38  50000]\n",
      " [    35  75000]\n",
      " [    30  79000]\n",
      " [    35  50000]\n",
      " [    27  20000]\n",
      " [    31  15000]\n",
      " [    36 144000]\n",
      " [    18  68000]\n",
      " [    47  43000]]\n",
      "Training target sample:\n",
      "[0 1 0 1 1 1 0 0 0 0]\n",
      "Testing target sample:\n",
      "[0 0 0 0 0 0 0 1 0 0]\n"
     ]
    }
   ],
   "source": [
    "def print_split_samples(X_train, X_test, y_train, y_test, sample_num=10):\n",
    "  \"\"\"\n",
    "  Parameters:\n",
    "    X_train (np.ndarray): Training features matrix.\n",
    "    X_test (np.ndarray): Testing features matrix.\n",
    "    y_train (np.ndarray): Training target vector.\n",
    "    y_test (np.ndarray): Testing target vector.\n",
    "    sample_num (int): Number of samples to display.\n",
    "  Purpose:\n",
    "    Print a sample of the training and testing sets.\n",
    "  Returns:\n",
    "    None\n",
    "  \"\"\"\n",
    "  print(\"Training features sample:\")\n",
    "  print(X_train[:sample_num])\n",
    "  print(\"Testing features sample:\")\n",
    "  print(X_test[:sample_num])\n",
    "  print(\"Training target sample:\")\n",
    "  print(y_train[:sample_num])\n",
    "  print(\"Testing target sample:\")\n",
    "  print(y_test[:sample_num])\n",
    "\n",
    "print_split_samples(X_train, X_test, y_train, y_test)\n"
   ]
  },
  {
   "cell_type": "markdown",
   "metadata": {
    "colab_type": "text",
    "id": "kW3c7UYih0hT"
   },
   "source": [
    "## Feature Scaling"
   ]
  },
  {
   "cell_type": "code",
   "execution_count": 63,
   "metadata": {
    "colab": {},
    "colab_type": "code",
    "id": "9fQlDPKCh8sc"
   },
   "outputs": [],
   "source": [
    "from sklearn.preprocessing import StandardScaler\n",
    "def standardize_features(X_train, X_test):\n",
    "    \"\"\"\n",
    "    Parameters:\n",
    "    X_train (np.ndarray): Training features matrix.\n",
    "    X_test (np.ndarray): Testing features matrix.\n",
    "    Purpose:\n",
    "    Standardize the features by removing the mean and scaling to unit variance.\n",
    "    Returns:\n",
    "    Tuple[np.ndarray, np.ndarray, StandardScaler ]: A tuple containing the standardized\n",
    "    training features, standardized testing features, and the fitted scaler object.\n",
    "    \"\"\"\n",
    "    scaler = StandardScaler()\n",
    "    X_train_scaled = scaler.fit_transform(X_train)\n",
    "    X_test_scaled = scaler.transform(X_test)\n",
    "    return X_train_scaled, X_test_scaled, scaler\n",
    "\n",
    "X_train, X_test, scaler = standardize_features(X_train, X_test)\n"
   ]
  },
  {
   "cell_type": "markdown",
   "metadata": {},
   "source": [
    "### Print scaled samples of features matrix sets"
   ]
  },
  {
   "cell_type": "code",
   "execution_count": 64,
   "metadata": {
    "colab": {
     "base_uri": "https://localhost:8080/",
     "height": 1000
    },
    "colab_type": "code",
    "executionInfo": {
     "elapsed": 1600,
     "status": "ok",
     "timestamp": 1588269343659,
     "user": {
      "displayName": "Hadelin de Ponteves",
      "photoUrl": "https://lh3.googleusercontent.com/a-/AOh14GhEuXdT7eQweUmRPW8_laJuPggSK6hfvpl5a6WBaA=s64",
      "userId": "15047218817161520419"
     },
     "user_tz": -240
    },
    "id": "syrnD1Op2BSR",
    "outputId": "b1fa2925-b7de-4530-b015-01bb51e742b4"
   },
   "outputs": [
    {
     "name": "stdout",
     "output_type": "stream",
     "text": [
      "Training features sample:\n",
      "[[ 0.58164944 -0.88670699]\n",
      " [-0.60673761  1.46173768]\n",
      " [-0.01254409 -0.5677824 ]\n",
      " [-0.60673761  1.89663484]\n",
      " [ 1.37390747 -1.40858358]\n",
      " [ 1.47293972  0.99784738]\n",
      " [ 0.08648817 -0.79972756]\n",
      " [-0.01254409 -0.24885782]\n",
      " [-0.21060859 -0.5677824 ]\n",
      " [-0.21060859 -0.19087153]]\n",
      "Testing features sample:\n",
      "[[-0.80480212  0.50496393]\n",
      " [-0.01254409 -0.5677824 ]\n",
      " [-0.30964085  0.1570462 ]\n",
      " [-0.80480212  0.27301877]\n",
      " [-0.30964085 -0.5677824 ]\n",
      " [-1.10189888 -1.43757673]\n",
      " [-0.70576986 -1.58254245]\n",
      " [-0.21060859  2.15757314]\n",
      " [-1.99318916 -0.04590581]\n",
      " [ 0.8787462  -0.77073441]]\n"
     ]
    }
   ],
   "source": [
    "def print_scaled_samples(X_train, X_test, sample_num=10):\n",
    "  \"\"\"\n",
    "  Parameters:\n",
    "  X_train (np.ndarray): Scaled training features matrix.\n",
    "  X_test (np.ndarray): Scaled testing features matrix.\n",
    "  Purpose:\n",
    "  Print a sample of the scaled training and test sets.\n",
    "  Return:\n",
    "  None\n",
    "  \"\"\"\n",
    "  print(\"Training features sample:\")\n",
    "  print(X_train[:sample_num])\n",
    "  print(\"Testing features sample:\")\n",
    "  print(X_test[:sample_num])\n",
    "\n",
    "print_scaled_samples(X_train, X_test)\n"
   ]
  },
  {
   "cell_type": "markdown",
   "metadata": {
    "colab_type": "text",
    "id": "bb6jCOCQiAmP"
   },
   "source": [
    "## Training the Random Forest Classification model on the Training set"
   ]
  },
  {
   "cell_type": "code",
   "execution_count": 65,
   "metadata": {
    "colab": {
     "base_uri": "https://localhost:8080/",
     "height": 154
    },
    "colab_type": "code",
    "executionInfo": {
     "elapsed": 1589,
     "status": "ok",
     "timestamp": 1588269343659,
     "user": {
      "displayName": "Hadelin de Ponteves",
      "photoUrl": "https://lh3.googleusercontent.com/a-/AOh14GhEuXdT7eQweUmRPW8_laJuPggSK6hfvpl5a6WBaA=s64",
      "userId": "15047218817161520419"
     },
     "user_tz": -240
    },
    "id": "e0pFVAmciHQs",
    "outputId": "79719013-2ffa-49f6-b49c-886d9ba19525"
   },
   "outputs": [],
   "source": [
    "from sklearn.ensemble import RandomForestClassifier\n",
    "def train_random_forest(X_train, y_train, n_estimators=100, criterion='entropy', random_state=0):\n",
    "    \"\"\"\n",
    "    Parameters:\n",
    "    X_train (np.ndarray): Training features matrix.\n",
    "    y_train (np.ndarray): Training target vector.\n",
    "    n_estimators (int): The number of trees in the forest.\n",
    "    criterion (str): The function to measure the quality of a split.\n",
    "    random_state (int): Random seed for reproducibility.\n",
    "    Purpose:\n",
    "    Train a Random Forest Classifier on the training data.\n",
    "    Returns:\n",
    "    RandomForestClassifier: The trained Random Forest Classifier.\n",
    "    \"\"\"\n",
    "    classifier = RandomForestClassifier(n_estimators=n_estimators, criterion=criterion, random_state=random_state)\n",
    "    classifier.fit(X_train, y_train)\n",
    "    return classifier\n",
    "\n",
    "classifier = train_random_forest(X_train, y_train)"
   ]
  },
  {
   "cell_type": "markdown",
   "metadata": {
    "colab_type": "text",
    "id": "yyxW5b395mR2"
   },
   "source": [
    "## Predicting a new result"
   ]
  },
  {
   "cell_type": "code",
   "execution_count": 66,
   "metadata": {
    "colab": {
     "base_uri": "https://localhost:8080/",
     "height": 34
    },
    "colab_type": "code",
    "executionInfo": {
     "elapsed": 1584,
     "status": "ok",
     "timestamp": 1588269343660,
     "user": {
      "displayName": "Hadelin de Ponteves",
      "photoUrl": "https://lh3.googleusercontent.com/a-/AOh14GhEuXdT7eQweUmRPW8_laJuPggSK6hfvpl5a6WBaA=s64",
      "userId": "15047218817161520419"
     },
     "user_tz": -240
    },
    "id": "f8YOXsQy58rP",
    "outputId": "81727e50-9f85-49ad-a41e-5891aa34e6bb"
   },
   "outputs": [
    {
     "data": {
      "text/plain": [
       "array([0])"
      ]
     },
     "execution_count": 66,
     "metadata": {},
     "output_type": "execute_result"
    }
   ],
   "source": [
    "classifier.predict(scaler.transform([[30, 87000]]))"
   ]
  },
  {
   "cell_type": "markdown",
   "metadata": {
    "colab_type": "text",
    "id": "vKYVQH-l5NpE"
   },
   "source": [
    "## Predicting the Test set results"
   ]
  },
  {
   "cell_type": "code",
   "execution_count": 67,
   "metadata": {
    "colab": {
     "base_uri": "https://localhost:8080/",
     "height": 1000
    },
    "colab_type": "code",
    "executionInfo": {
     "elapsed": 1578,
     "status": "ok",
     "timestamp": 1588269343660,
     "user": {
      "displayName": "Hadelin de Ponteves",
      "photoUrl": "https://lh3.googleusercontent.com/a-/AOh14GhEuXdT7eQweUmRPW8_laJuPggSK6hfvpl5a6WBaA=s64",
      "userId": "15047218817161520419"
     },
     "user_tz": -240
    },
    "id": "p6VMTb2O4hwM",
    "outputId": "f160d9d3-e4cd-4484-db9d-99028dfed42d"
   },
   "outputs": [],
   "source": [
    "y_pred = classifier.predict(X_test)"
   ]
  },
  {
   "cell_type": "markdown",
   "metadata": {},
   "source": [
    "### Printing the predictions to the actual data"
   ]
  },
  {
   "cell_type": "code",
   "execution_count": 68,
   "metadata": {},
   "outputs": [
    {
     "name": "stdout",
     "output_type": "stream",
     "text": [
      "Actual vs Predicted:\n",
      "[0 0 0 0 0 0 0 1 0 0 0 0 0 0 0 0 0 0 1 0 0 1 0 1 0 1 0 0 0 0 0 1 1 0 0]\n",
      "[0 0 0 0 0 0 0 1 0 1 0 0 0 0 0 1 1 0 1 0 0 1 0 1 0 0 0 0 0 0 0 0 1 0 0]\n"
     ]
    }
   ],
   "source": [
    "def print_predictions(y_pred, y_test, sample_num=35):\n",
    "    \"\"\"\n",
    "    Parameters:\n",
    "    y_pred (np.ndarray): Predicted target vector.\n",
    "    y_test (np.ndarray): Actual target vector.\n",
    "    Purpose:\n",
    "    Print the predicted and actual target values side by side for comparison.\n",
    "    Returns:\n",
    "    None\n",
    "    \"\"\"\n",
    "    print('Actual vs Predicted:')\n",
    "    print(y_test[:sample_num])\n",
    "    print(y_pred[:sample_num])\n",
    "\n",
    "print_predictions(y_pred, y_test)"
   ]
  },
  {
   "cell_type": "markdown",
   "metadata": {
    "colab_type": "text",
    "id": "h4Hwj34ziWQW"
   },
   "source": [
    "## Making the Confusion Matrix"
   ]
  },
  {
   "cell_type": "code",
   "execution_count": 69,
   "metadata": {
    "colab": {
     "base_uri": "https://localhost:8080/",
     "height": 68
    },
    "colab_type": "code",
    "executionInfo": {
     "elapsed": 1898,
     "status": "ok",
     "timestamp": 1588269343985,
     "user": {
      "displayName": "Hadelin de Ponteves",
      "photoUrl": "https://lh3.googleusercontent.com/a-/AOh14GhEuXdT7eQweUmRPW8_laJuPggSK6hfvpl5a6WBaA=s64",
      "userId": "15047218817161520419"
     },
     "user_tz": -240
    },
    "id": "D6bpZwUiiXic",
    "outputId": "b4ab126b-4118-461e-f02a-cfe538ae6a71"
   },
   "outputs": [
    {
     "name": "stdout",
     "output_type": "stream",
     "text": [
      "Confusion Matrix:\n",
      "[[63  5]\n",
      " [ 4 28]]\n",
      "Accuracy: 0.91\n"
     ]
    }
   ],
   "source": [
    "from sklearn.metrics import confusion_matrix, accuracy_score\n",
    "def evaluate_model(y_test, y_pred):\n",
    "    \"\"\"\n",
    "    Parameters:\n",
    "    y_test (np.ndarray): Actual target vector.\n",
    "    y_pred (np.ndarray): Predicted target vector.\n",
    "    Purpose:\n",
    "    Evaluate the model using a confusion matrix and accuracy score.\n",
    "    Returns:\n",
    "    Tuple[np.ndarray, float]: Confusion matrix and accuracy score.\n",
    "    \"\"\"\n",
    "    cm = confusion_matrix(y_test, y_pred)\n",
    "    accuracy = accuracy_score(y_test, y_pred)\n",
    "    return cm, accuracy\n",
    "\n",
    "cm, accuracy = evaluate_model(y_test, y_pred)\n",
    "print(\"Confusion Matrix:\")\n",
    "print(cm)\n",
    "print(f\"Accuracy: {accuracy:.2f}\")\n",
    "#!/usr/bin/env python3"
   ]
  },
  {
   "cell_type": "markdown",
   "metadata": {
    "colab_type": "text",
    "id": "6OMC_P0diaoD"
   },
   "source": [
    "## Visualising the Training set results"
   ]
  },
  {
   "cell_type": "code",
   "execution_count": 70,
   "metadata": {
    "colab": {
     "base_uri": "https://localhost:8080/",
     "height": 349
    },
    "colab_type": "code",
    "executionInfo": {
     "elapsed": 87793,
     "status": "ok",
     "timestamp": 1588269429885,
     "user": {
      "displayName": "Hadelin de Ponteves",
      "photoUrl": "https://lh3.googleusercontent.com/a-/AOh14GhEuXdT7eQweUmRPW8_laJuPggSK6hfvpl5a6WBaA=s64",
      "userId": "15047218817161520419"
     },
     "user_tz": -240
    },
    "id": "_NOjKvZRid5l",
    "outputId": "7efb744e-3ecb-4303-8543-8fabf49f64bc"
   },
   "outputs": [
    {
     "name": "stderr",
     "output_type": "stream",
     "text": [
      "*c* argument looks like a single numeric RGB or RGBA sequence, which should be avoided as value-mapping will have precedence in case its length matches with *x* & *y*.  Please use the *color* keyword-argument or provide a 2D array with a single row if you intend to specify the same RGB or RGBA value for all points.\n",
      "*c* argument looks like a single numeric RGB or RGBA sequence, which should be avoided as value-mapping will have precedence in case its length matches with *x* & *y*.  Please use the *color* keyword-argument or provide a 2D array with a single row if you intend to specify the same RGB or RGBA value for all points.\n"
     ]
    },
    {
     "data": {
      "image/png": "[encoded data removed]",
      "text/plain": [
       "<Figure size 432x288 with 1 Axes>"
      ]
     },
     "metadata": {
      "needs_background": "light"
     },
     "output_type": "display_data"
    }
   ],
   "source": [
    "from matplotlib.colors import ListedColormap\n",
    "plt.figure.figsize = (10,6)\n",
    "X_set, y_set = scaler.inverse_transform(X_train), y_train\n",
    "X1, X2 = np.meshgrid(np.arange(start = X_set[:, 0].min() - 10, stop = X_set[:, 0].max() + 10, step = 0.25),\n",
    "                     np.arange(start = X_set[:, 1].min() - 1000, stop = X_set[:, 1].max() + 1000, step = 0.25))\n",
    "plt.contourf(X1, X2, classifier.predict(scaler.transform(np.array([X1.ravel(), X2.ravel()]).T)).reshape(X1.shape),\n",
    "             alpha = 0.75, cmap = ListedColormap(('red', 'green')))\n",
    "plt.xlim(X1.min(), X1.max())\n",
    "plt.ylim(X2.min(), X2.max())\n",
    "for i, j in enumerate(np.unique(y_set)):\n",
    "    plt.scatter(X_set[y_set == j, 0], X_set[y_set == j, 1], c = ListedColormap(('red', 'green'))(i), label = j)\n",
    "plt.title('Random Forest Classification (Training set)')\n",
    "plt.xlabel('Age')\n",
    "plt.ylabel('Estimated Salary')\n",
    "plt.legend()\n",
    "plt.show()"
   ]
  },
  {
   "cell_type": "code",
   "execution_count": null,
   "metadata": {},
   "outputs": [],
   "source": []
  },
  {
   "cell_type": "markdown",
   "metadata": {
    "colab_type": "text",
    "id": "SZ-j28aPihZx"
   },
   "source": [
    "## Visualising the Test set results"
   ]
  },
  {
   "cell_type": "code",
   "execution_count": 71,
   "metadata": {
    "colab": {
     "base_uri": "https://localhost:8080/",
     "height": 349
    },
    "colab_type": "code",
    "executionInfo": {
     "elapsed": 172477,
     "status": "ok",
     "timestamp": 1588269514574,
     "user": {
      "displayName": "Hadelin de Ponteves",
      "photoUrl": "https://lh3.googleusercontent.com/a-/AOh14GhEuXdT7eQweUmRPW8_laJuPggSK6hfvpl5a6WBaA=s64",
      "userId": "15047218817161520419"
     },
     "user_tz": -240
    },
    "id": "qeTjz2vDilAC",
    "outputId": "f1a33b1a-e8b6-4b3e-e98a-a0c7c66fed56"
   },
   "outputs": [
    {
     "ename": "NameError",
     "evalue": "name 'sc' is not defined",
     "output_type": "error",
     "traceback": [
      "\u001b[0;31m---------------------------------------------------------------------------\u001b[0m",
      "\u001b[0;31mNameError\u001b[0m                                 Traceback (most recent call last)",
      "Input \u001b[0;32mIn [71]\u001b[0m, in \u001b[0;36m<cell line: 3>\u001b[0;34m()\u001b[0m\n\u001b[1;32m      1\u001b[0m \u001b[38;5;28;01mfrom\u001b[39;00m \u001b[38;5;21;01mmatplotlib\u001b[39;00m\u001b[38;5;21;01m.\u001b[39;00m\u001b[38;5;21;01mcolors\u001b[39;00m \u001b[38;5;28;01mimport\u001b[39;00m ListedColormap\n\u001b[1;32m      2\u001b[0m plt\u001b[38;5;241m.\u001b[39mfigure\u001b[38;5;241m.\u001b[39mfigsize \u001b[38;5;241m=\u001b[39m (\u001b[38;5;241m10\u001b[39m,\u001b[38;5;241m6\u001b[39m)\n\u001b[0;32m----> 3\u001b[0m X_set, y_set \u001b[38;5;241m=\u001b[39m \u001b[43msc\u001b[49m\u001b[38;5;241m.\u001b[39minverse_transform(X_test), y_test\n\u001b[1;32m      4\u001b[0m X1, X2 \u001b[38;5;241m=\u001b[39m np\u001b[38;5;241m.\u001b[39mmeshgrid(np\u001b[38;5;241m.\u001b[39marange(start \u001b[38;5;241m=\u001b[39m X_set[:, \u001b[38;5;241m0\u001b[39m]\u001b[38;5;241m.\u001b[39mmin() \u001b[38;5;241m-\u001b[39m \u001b[38;5;241m10\u001b[39m, stop \u001b[38;5;241m=\u001b[39m X_set[:, \u001b[38;5;241m0\u001b[39m]\u001b[38;5;241m.\u001b[39mmax() \u001b[38;5;241m+\u001b[39m \u001b[38;5;241m10\u001b[39m, step \u001b[38;5;241m=\u001b[39m \u001b[38;5;241m0.25\u001b[39m),\n\u001b[1;32m      5\u001b[0m                      np\u001b[38;5;241m.\u001b[39marange(start \u001b[38;5;241m=\u001b[39m X_set[:, \u001b[38;5;241m1\u001b[39m]\u001b[38;5;241m.\u001b[39mmin() \u001b[38;5;241m-\u001b[39m \u001b[38;5;241m1000\u001b[39m, stop \u001b[38;5;241m=\u001b[39m X_set[:, \u001b[38;5;241m1\u001b[39m]\u001b[38;5;241m.\u001b[39mmax() \u001b[38;5;241m+\u001b[39m \u001b[38;5;241m1000\u001b[39m, step \u001b[38;5;241m=\u001b[39m \u001b[38;5;241m0.25\u001b[39m))\n\u001b[1;32m      6\u001b[0m plt\u001b[38;5;241m.\u001b[39mcontourf(X1, X2, classifier\u001b[38;5;241m.\u001b[39mpredict(sc\u001b[38;5;241m.\u001b[39mtransform(np\u001b[38;5;241m.\u001b[39marray([X1\u001b[38;5;241m.\u001b[39mravel(), X2\u001b[38;5;241m.\u001b[39mravel()])\u001b[38;5;241m.\u001b[39mT))\u001b[38;5;241m.\u001b[39mreshape(X1\u001b[38;5;241m.\u001b[39mshape),\n\u001b[1;32m      7\u001b[0m              alpha \u001b[38;5;241m=\u001b[39m \u001b[38;5;241m0.75\u001b[39m, cmap \u001b[38;5;241m=\u001b[39m ListedColormap((\u001b[38;5;124m'\u001b[39m\u001b[38;5;124mred\u001b[39m\u001b[38;5;124m'\u001b[39m, \u001b[38;5;124m'\u001b[39m\u001b[38;5;124mgreen\u001b[39m\u001b[38;5;124m'\u001b[39m)))\n",
      "\u001b[0;31mNameError\u001b[0m: name 'sc' is not defined"
     ]
    }
   ],
   "source": [
    "from matplotlib.colors import ListedColormap\n",
    "plt.figure.figsize = (10,6)\n",
    "X_set, y_set = sc.inverse_transform(X_test), y_test\n",
    "X1, X2 = np.meshgrid(np.arange(start = X_set[:, 0].min() - 10, stop = X_set[:, 0].max() + 10, step = 0.25),\n",
    "                     np.arange(start = X_set[:, 1].min() - 1000, stop = X_set[:, 1].max() + 1000, step = 0.25))\n",
    "plt.contourf(X1, X2, classifier.predict(sc.transform(np.array([X1.ravel(), X2.ravel()]).T)).reshape(X1.shape),\n",
    "             alpha = 0.75, cmap = ListedColormap(('red', 'green')))\n",
    "plt.xlim(X1.min(), X1.max())\n",
    "plt.ylim(X2.min(), X2.max())\n",
    "for i, j in enumerate(np.unique(y_set)):\n",
    "    plt.scatter(X_set[y_set == j, 0], X_set[y_set == j, 1], c = ListedColormap(('red', 'green'))(i), label = j)\n",
    "plt.title('Random Forest Classification (Test set)')\n",
    "plt.xlabel('Age')\n",
    "plt.ylabel('Estimated Salary')\n",
    "plt.legend()\n",
    "plt.show()"
   ]
  }
 ],
 "metadata": {
  "colab": {
   "authorship_tag": "ABX9TyPA7K2PAkEFgaKFIvslUMEc",
   "collapsed_sections": [],
   "machine_shape": "hm",
   "name": "random_forest_classification.ipynb",
   "provenance": [],
   "toc_visible": true
  },
  "kernelspec": {
   "display_name": "Python 3 (ipykernel)",
   "language": "python",
   "name": "python3"
  },
  "language_info": {
   "codemirror_mode": {
    "name": "ipython",
    "version": 3
   },
   "file_extension": ".py",
   "mimetype": "text/x-python",
   "name": "python",
   "nbconvert_exporter": "python",
   "pygments_lexer": "ipython3",
   "version": "3.9.12"
  }
 },
 "nbformat": 4,
 "nbformat_minor": 0
}
