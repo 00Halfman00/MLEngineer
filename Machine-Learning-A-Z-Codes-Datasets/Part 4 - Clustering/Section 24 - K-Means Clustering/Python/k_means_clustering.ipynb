{
 "cells": [
  {
   "cell_type": "markdown",
   "metadata": {
    "colab_type": "text",
    "id": "i_paGd_yLbgH"
   },
   "source": [
    "# K-Means Clustering"
   ]
  },
  {
   "cell_type": "markdown",
   "metadata": {
    "colab_type": "text",
    "id": "nAuqPwTnLipr"
   },
   "source": [
    "## Importing the libraries"
   ]
  },
  {
   "cell_type": "code",
   "execution_count": 1,
   "metadata": {
    "colab": {},
    "colab_type": "code",
    "id": "yUXGcC4KLmcL"
   },
   "outputs": [],
   "source": [
    "import numpy as np\n",
    "import matplotlib.pyplot as plt\n",
    "import pandas as pd"
   ]
  },
  {
   "cell_type": "markdown",
   "metadata": {
    "colab_type": "text",
    "id": "5LciKOr8Lo5O"
   },
   "source": [
    "## Importing the dataset"
   ]
  },
  {
   "cell_type": "code",
   "execution_count": 2,
   "metadata": {
    "colab": {},
    "colab_type": "code",
    "id": "9RlmPzZGLtGi"
   },
   "outputs": [],
   "source": [
    "def load_data(file_path):\n",
    "    \"\"\"\n",
    "    Parameters:\n",
    "    file_path (str): The path to the CSV file to load.\n",
    "    Purpose:\n",
    "    To load customer data from a CSV file and extract a feature matrix.\n",
    "    Return:\n",
    "    Optional[np.ndarray]: A NumPy array containing the feature matrix, or None if an error occurs.\n",
    "    \"\"\"\n",
    "    try:\n",
    "      df = pd.read_csv(file_path)\n",
    "      X = df.iloc[:, 3:].values\n",
    "      return X\n",
    "    except Exception as e:\n",
    "      print(f\"Error loading data: {e}\")\n",
    "      return None\n",
    "\n",
    "X = load_data('Mall_Customers.csv')"
   ]
  },
  {
   "cell_type": "code",
   "execution_count": 5,
   "metadata": {},
   "outputs": [
    {
     "name": "stdout",
     "output_type": "stream",
     "text": [
      "Sample data points:\n",
      "[[15 39]\n",
      " [15 81]\n",
      " [16  6]\n",
      " [16 77]\n",
      " [17 40]\n",
      " [17 76]\n",
      " [18  6]\n",
      " [18 94]\n",
      " [19  3]\n",
      " [19 72]\n",
      " [19 14]\n",
      " [19 99]\n",
      " [20 15]\n",
      " [20 77]\n",
      " [20 13]]\n"
     ]
    }
   ],
   "source": [
    "def print_samples(X, n_samples=5):\n",
    "    \"\"\"\n",
    "    Parameters:\n",
    "    X (np.ndarray): The feature matrix for clustering.\n",
    "    num_samples (int): The number of samples to print.\n",
    "    Purpose:\n",
    "    Print a few samples from the dataset to understand its structure.\n",
    "    Return:\n",
    "    None\n",
    "    \"\"\"\n",
    "    if X is not None:\n",
    "        print(\"Sample data points:\")\n",
    "        print(X[:n_samples])\n",
    "    else:\n",
    "        print(\"No data to display.\")\n",
    "\n",
    "print_samples(X, 15)\n"
   ]
  },
  {
   "cell_type": "markdown",
   "metadata": {
    "colab_type": "text",
    "id": "nWC2EWp2Lx5G"
   },
   "source": [
    "## Using the elbow method to find the optimal number of clusters"
   ]
  },
  {
   "cell_type": "code",
   "execution_count": 6,
   "metadata": {
    "colab": {
     "base_uri": "https://localhost:8080/",
     "height": 295
    },
    "colab_type": "code",
    "executionInfo": {
     "elapsed": 2064,
     "status": "ok",
     "timestamp": 1586372911621,
     "user": {
      "displayName": "Hadelin de Ponteves",
      "photoUrl": "https://lh3.googleusercontent.com/a-/AOh14GhEuXdT7eQweUmRPW8_laJuPggSK6hfvpl5a6WBaA=s64",
      "userId": "15047218817161520419"
     },
     "user_tz": -240
    },
    "id": "zWs6ciOoL1b3",
    "outputId": "893027bb-ecf9-45a4-f229-f54cebdccee2"
   },
   "outputs": [],
   "source": [
    "from sklearn.cluster import KMeans\n",
    "def calculate_wcss(X, n_clusters):\n",
    "  \"\"\"\n",
    "  Parameters:\n",
    "  X (np.ndarray): The feature matrix for clustering.\n",
    "  num_clusters (int): The number of clusters to test.\n",
    "  Purpose:\n",
    "  Calculates the Within-Cluster Sum of Squares (WCSS) for a range of clusters\n",
    "  to be used for the Elbow Method.\n",
    "  Returns:\n",
    "  list[float]: The WCSS of squares for each number of clusters.\n",
    "  \"\"\"\n",
    "  wcss = []\n",
    "  for i in range(1, n_clusters + 1):\n",
    "      kmeans = KMeans(n_clusters=i, init='k-means++', max_iter=300, n_init=10, random_state=42)\n",
    "      kmeans.fit(X)\n",
    "      wcss.append(kmeans.inertia_)\n",
    "  return wcss\n",
    "\n",
    "wcss = calculate_wcss(X, 10)\n"
   ]
  },
  {
   "cell_type": "code",
   "execution_count": 9,
   "metadata": {},
   "outputs": [
    {
     "data": {
      "image/png": "[encoded data removed]",
      "text/plain": [
       "<Figure size 720x360 with 1 Axes>"
      ]
     },
     "metadata": {
      "needs_background": "light"
     },
     "output_type": "display_data"
    }
   ],
   "source": [
    "def print_wcss(wcss, n_clusters=10):\n",
    "    \"\"\"\n",
    "    Parameters:\n",
    "    wcss (list[float]): The within-cluster sum of squares for each number of clusters.\n",
    "    n_clusters (int): The number of clusters to plot.\n",
    "    Purpose:\n",
    "    Plots the WCSS values to help visualize clustering performance and identify the elbow.\n",
    "    Return:\n",
    "    None\n",
    "    \"\"\"\n",
    "    if wcss:\n",
    "        plt.figure(figsize=(10, 5))\n",
    "        plt.plot(range(1, n_clusters + 1), wcss, marker='o', markerfacecolor='purple')\n",
    "        plt.title(\"WCSS vs Number of Clusters\")\n",
    "        plt.xlabel(\"Number of Clusters\")\n",
    "        plt.ylabel(\"WCSS\")\n",
    "        plt.show()\n",
    "    else:\n",
    "        print(\"No WCSS values to display.\")\n",
    "\n",
    "print_wcss(wcss, 10)\n",
    "\n",
    "\n"
   ]
  },
  {
   "cell_type": "markdown",
   "metadata": {
    "colab_type": "text",
    "id": "VgT0mANLL4Nz"
   },
   "source": [
    "## Training the K-Means model on the dataset"
   ]
  },
  {
   "cell_type": "code",
   "execution_count": 10,
   "metadata": {
    "colab": {},
    "colab_type": "code",
    "id": "cjEfU6ZSMAPl"
   },
   "outputs": [],
   "source": [
    "def train_kmeans(X, n_clusters):\n",
    "    \"\"\"\n",
    "    Parameters:\n",
    "    X (np.ndarray): The feature matrix for clustering.\n",
    "    n_clusters (int): The number of clusters to form.\n",
    "    Purpose:\n",
    "    Train a K-Means clustering model and assign cluster labels to each data point.\n",
    "    Returns:\n",
    "    tuple (KMeans, np.ndarray): The trained K-Means model object and the cluster labels.\n",
    "    \"\"\"\n",
    "    kmeans = KMeans(n_clusters=n_clusters, init='k-means++', max_iter=300, n_init=10, random_state=42)\n",
    "    y_kmeans = kmeans.fit_predict(X)\n",
    "    return kmeans, y_kmeans\n",
    "\n",
    "kmeans, y_kmeans = train_kmeans(X, 5)"
   ]
  },
  {
   "cell_type": "code",
   "execution_count": 11,
   "metadata": {},
   "outputs": [
    {
     "data": {
      "text/plain": [
       "KMeans(n_clusters=5, random_state=42)"
      ]
     },
     "execution_count": 11,
     "metadata": {},
     "output_type": "execute_result"
    }
   ],
   "source": [
    "kmeans"
   ]
  },
  {
   "cell_type": "markdown",
   "metadata": {
    "colab_type": "text",
    "id": "e7YrS1JAMFnm"
   },
   "source": [
    "## Visualising the clusters"
   ]
  },
  {
   "cell_type": "code",
   "execution_count": 12,
   "metadata": {
    "colab": {
     "base_uri": "https://localhost:8080/",
     "height": 295
    },
    "colab_type": "code",
    "executionInfo": {
     "elapsed": 2048,
     "status": "ok",
     "timestamp": 1586372929246,
     "user": {
      "displayName": "Hadelin de Ponteves",
      "photoUrl": "https://lh3.googleusercontent.com/a-/AOh14GhEuXdT7eQweUmRPW8_laJuPggSK6hfvpl5a6WBaA=s64",
      "userId": "15047218817161520419"
     },
     "user_tz": -240
    },
    "id": "d0ZYecccMHNx",
    "outputId": "01079a1c-4593-4c3e-8c0c-47229c27cd84"
   },
   "outputs": [
    {
     "data": {
      "image/png": "[encoded data removed]",
      "text/plain": [
       "<Figure size 720x432 with 1 Axes>"
      ]
     },
     "metadata": {
      "needs_background": "light"
     },
     "output_type": "display_data"
    }
   ],
   "source": [
    "def print_kmeans_clusters(kmeans, y_kmeans):\n",
    "    \"\"\"\n",
    "    Parameters:\n",
    "    kmeans: KMeans - The trained K-Means model.\n",
    "    y_means: np.ndarray - The cluster centers.\n",
    "    Purpose:\n",
    "    Print the cluster centers and the labels assigned to each data point.\n",
    "    Returns:\n",
    "    None\n",
    "    \"\"\"\n",
    "    plt.figure(figsize=(10, 6))\n",
    "    plt.scatter(X[y_kmeans == 0, 0], X[y_kmeans == 0, 1], s = 100, c = 'red', label = 'Cluster 1')\n",
    "    plt.scatter(X[y_kmeans == 1, 0], X[y_kmeans == 1, 1], s = 100, c = 'blue', label = 'Cluster 2')\n",
    "    plt.scatter(X[y_kmeans == 2, 0], X[y_kmeans == 2, 1], s = 100, c = 'green', label = 'Cluster 3')\n",
    "    plt.scatter(X[y_kmeans == 3, 0], X[y_kmeans == 3, 1], s = 100, c = 'cyan', label = 'Cluster 4')\n",
    "    plt.scatter(X[y_kmeans == 4, 0], X[y_kmeans == 4, 1], s = 100, c = 'magenta', label = 'Cluster 5')\n",
    "    plt.scatter(kmeans.cluster_centers_[:, 0], kmeans.cluster_centers_[:, 1], s = 300, c = 'grey', label = 'Centroids')\n",
    "    plt.title('Clusters of customers')\n",
    "    plt.xlabel('Annual Income (k$)')\n",
    "    plt.ylabel('Spending Score (1-100)')\n",
    "    plt.legend()\n",
    "    plt.show()\n",
    "\n",
    "print_kmeans_clusters(kmeans, y_kmeans)\n"
   ]
  },
  {
   "cell_type": "code",
   "execution_count": null,
   "metadata": {},
   "outputs": [],
   "source": []
  }
 ],
 "metadata": {
  "colab": {
   "authorship_tag": "ABX9TyN979dFKn9B6Ro9v0hJ4uqU",
   "name": "K-Means Clustering",
   "provenance": [],
   "toc_visible": true
  },
  "kernelspec": {
   "display_name": "Python 3 (ipykernel)",
   "language": "python",
   "name": "python3"
  },
  "language_info": {
   "codemirror_mode": {
    "name": "ipython",
    "version": 3
   },
   "file_extension": ".py",
   "mimetype": "text/x-python",
   "name": "python",
   "nbconvert_exporter": "python",
   "pygments_lexer": "ipython3",
   "version": "3.9.12"
  }
 },
 "nbformat": 4,
 "nbformat_minor": 0
}
